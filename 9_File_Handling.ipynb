{
 "cells": [
  {
   "cell_type": "markdown",
   "id": "38b4399f",
   "metadata": {},
   "source": [
    "### File Handling through Py"
   ]
  },
  {
   "cell_type": "code",
   "execution_count": 1,
   "id": "e7d980b0",
   "metadata": {},
   "outputs": [
    {
     "name": "stdout",
     "output_type": "stream",
     "text": [
      "Vedant Vijay Kulkarni\n",
      "Ajinkya Arun Kale\n",
      "John Banega Don\n",
      "Pajji Tum Kitthe Challe\n",
      "\n"
     ]
    }
   ],
   "source": [
    "## File Opening\n",
    "\n",
    "with open('example.txt','r') as file : \n",
    "    content = file.read()\n",
    "    print(content)"
   ]
  },
  {
   "cell_type": "code",
   "execution_count": 1,
   "id": "abae15fb",
   "metadata": {},
   "outputs": [],
   "source": [
    "lines = ['First Lines \\n','Second Lines \\n','Three Lines \\n']\n",
    "with open('example.txt','a') as file : \n",
    "    file.write('This is Writed Lines by Write Function. \\n')\n",
    "    file.writelines(lines)"
   ]
  },
  {
   "cell_type": "code",
   "execution_count": 2,
   "id": "7feb551f",
   "metadata": {},
   "outputs": [
    {
     "name": "stdout",
     "output_type": "stream",
     "text": [
      "Lines count : 8\n",
      "Words Count : 26\n",
      "Character Count : 161\n",
      "\n"
     ]
    }
   ],
   "source": [
    "def Counting_Function_For_File(path) : \n",
    "    with open(path,'r') as file : \n",
    "        lines = file.readlines()\n",
    "        line_count = len(lines)\n",
    "        word_count = sum(len(line.split()) for line in lines)\n",
    "        char_count = sum(len(line) for line in lines)\n",
    "    return line_count,word_count,char_count\n",
    "\n",
    "path = 'example.txt'\n",
    "lines,words,chars = Counting_Function_For_File(path)\n",
    "\n",
    "print(f\"Lines count : {lines}\\nWords Count : {words}\\nCharacter Count : {chars}\\n\")"
   ]
  },
  {
   "cell_type": "code",
   "execution_count": 5,
   "id": "f2dee46b",
   "metadata": {},
   "outputs": [
    {
     "name": "stdout",
     "output_type": "stream",
     "text": [
      "c:\\Users\\vedan\\Desktop\\ML Practice\\Krish_Course\\folders\\file.txt\n"
     ]
    }
   ],
   "source": [
    "## Joining Path is main task used by os lib\n",
    "\n",
    "import os \n",
    "os.listdir('.')\n",
    "dir_name = 'folders'\n",
    "file_name = 'file.txt'\n",
    "full_path = os.path.join(os.getcwd(),dir_name,file_name)\n",
    "print(full_path)"
   ]
  },
  {
   "cell_type": "code",
   "execution_count": 6,
   "id": "4a59f4c5",
   "metadata": {},
   "outputs": [
    {
     "name": "stdout",
     "output_type": "stream",
     "text": [
      "the path example.txt is exist in folder\n"
     ]
    }
   ],
   "source": [
    "paths = 'example.txt'\n",
    "if os.path.exists(path) : \n",
    "    print(f\"the path {path} is exist in folder\")\n",
    "else : \n",
    "    print(f\"the path {path} is not exist in folder\")"
   ]
  },
  {
   "cell_type": "code",
   "execution_count": 7,
   "id": "d95a2f81",
   "metadata": {},
   "outputs": [
    {
     "name": "stdout",
     "output_type": "stream",
     "text": [
      "example.txt is file\n"
     ]
    }
   ],
   "source": [
    "if os.path.isdir(paths) : \n",
    "    print(f\"{path} is directory\")\n",
    "elif os.path.isfile(path) : \n",
    "    print(f\"{path} is file\")\n",
    "else  : \n",
    "    print(f\"{path} is neither file not directory\")"
   ]
  },
  {
   "cell_type": "code",
   "execution_count": 8,
   "id": "0aa9a485",
   "metadata": {},
   "outputs": [
    {
     "name": "stdout",
     "output_type": "stream",
     "text": [
      "c:\\Users\\vedan\\Desktop\\ML Practice\\Krish_Course\\example.txt\n"
     ]
    }
   ],
   "source": [
    "relative_path = paths\n",
    "absolute_path = os.path.abspath(relative_path)\n",
    "print(absolute_path)"
   ]
  }
 ],
 "metadata": {
  "kernelspec": {
   "display_name": "Python 3",
   "language": "python",
   "name": "python3"
  },
  "language_info": {
   "codemirror_mode": {
    "name": "ipython",
    "version": 3
   },
   "file_extension": ".py",
   "mimetype": "text/x-python",
   "name": "python",
   "nbconvert_exporter": "python",
   "pygments_lexer": "ipython3",
   "version": "3.13.0"
  }
 },
 "nbformat": 4,
 "nbformat_minor": 5
}
