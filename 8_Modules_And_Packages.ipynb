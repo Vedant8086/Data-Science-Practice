{
 "cells": [
  {
   "cell_type": "markdown",
   "id": "57fafba9",
   "metadata": {},
   "source": [
    "### Modules And Packages"
   ]
  },
  {
   "cell_type": "code",
   "execution_count": 1,
   "id": "e602d8a5",
   "metadata": {},
   "outputs": [
    {
     "name": "stdout",
     "output_type": "stream",
     "text": [
      "4.358898943540674\n"
     ]
    }
   ],
   "source": [
    "import math\n",
    "\n",
    "print(math.sqrt(19))"
   ]
  },
  {
   "cell_type": "code",
   "execution_count": 2,
   "id": "349f188f",
   "metadata": {},
   "outputs": [
    {
     "name": "stdout",
     "output_type": "stream",
     "text": [
      "0.8939966636005579\n",
      "9.433981132056603\n",
      "3.141592653589793\n"
     ]
    },
    {
     "data": {
      "text/plain": [
       "array([1, 2, 3, 4, 5])"
      ]
     },
     "execution_count": 2,
     "metadata": {},
     "output_type": "execute_result"
    }
   ],
   "source": [
    "from math import sqrt,pi,sin\n",
    "import numpy as np\n",
    "print(sin(90))\n",
    "print(sqrt(89))\n",
    "print(pi)\n",
    "\n",
    "np.array([1,2,3,4,5])"
   ]
  },
  {
   "cell_type": "code",
   "execution_count": 30,
   "id": "1f7ee8fa",
   "metadata": {},
   "outputs": [
    {
     "name": "stdout",
     "output_type": "stream",
     "text": [
      "28\n",
      "drafon fruit\n",
      "c:\\Users\\vedan\\Desktop\\ML Practice\\Krish_Course\n"
     ]
    }
   ],
   "source": [
    "import random\n",
    "import os\n",
    "from shutil import *\n",
    "\n",
    "print(random.randint(1,100))\n",
    "\n",
    "print(random.choice(['apple','orange','drafon fruit']))\n",
    "\n",
    "print(os.getcwd())\n",
    "# print(os.mkdir('test_py'))\n",
    "os.rmdir('test_py')\n"
   ]
  },
  {
   "cell_type": "code",
   "execution_count": 33,
   "id": "cf8bacc6",
   "metadata": {},
   "outputs": [
    {
     "name": "stdout",
     "output_type": "stream",
     "text": [
      "{\"name\": \"Vedant\", \"age\": 123}\n",
      "<class 'str'>\n",
      "{'name': 'Vedant', 'age': 123}\n",
      "<class 'dict'>\n"
     ]
    }
   ],
   "source": [
    "import json\n",
    "\n",
    "perosn = {\n",
    "    'name' : 'Vedant',\n",
    "    'age' : 123\n",
    "}\n",
    "\n",
    "json_dump = json.dumps(perosn)\n",
    "print(json_dump)\n",
    "print(type(json_dump))\n",
    "\n",
    "parsed_json = json.loads(json_dump)\n",
    "print(parsed_json)\n",
    "print(type(parsed_json))"
   ]
  },
  {
   "cell_type": "code",
   "execution_count": 37,
   "id": "ee2d5317",
   "metadata": {},
   "outputs": [
    {
     "name": "stdout",
     "output_type": "stream",
     "text": [
      "2025-10-09 17:15:10.700878\n",
      "2025-12-31 17:15:10.700878\n"
     ]
    }
   ],
   "source": [
    "from datetime import datetime,timedelta\n",
    "\n",
    "now = datetime.now()\n",
    "\n",
    "print(now)\n",
    "yesterday = now + timedelta(days=83)\n",
    "\n",
    "print(yesterday)\n",
    "\n"
   ]
  },
  {
   "cell_type": "code",
   "execution_count": 38,
   "id": "f5f823f1",
   "metadata": {},
   "outputs": [
    {
     "name": "stdout",
     "output_type": "stream",
     "text": [
      "1760010512.177654\n",
      "1760010515.1783748\n"
     ]
    }
   ],
   "source": [
    "import time\n",
    "\n",
    "print(time.time())\n",
    "time.sleep(3)\n",
    "print(time.time())"
   ]
  },
  {
   "cell_type": "code",
   "execution_count": 43,
   "id": "6c007059",
   "metadata": {},
   "outputs": [
    {
     "name": "stdout",
     "output_type": "stream",
     "text": [
      "1234 \n"
     ]
    }
   ],
   "source": [
    "import re\n",
    "\n",
    "pattern = r'\\d+.'\n",
    "text = \"there to 1234 456 apples\"\n",
    "match = re.search(pattern,text)\n",
    "print(match.group())"
   ]
  }
 ],
 "metadata": {
  "kernelspec": {
   "display_name": "Python 3",
   "language": "python",
   "name": "python3"
  },
  "language_info": {
   "codemirror_mode": {
    "name": "ipython",
    "version": 3
   },
   "file_extension": ".py",
   "mimetype": "text/x-python",
   "name": "python",
   "nbconvert_exporter": "python",
   "pygments_lexer": "ipython3",
   "version": "3.13.0"
  }
 },
 "nbformat": 4,
 "nbformat_minor": 5
}
