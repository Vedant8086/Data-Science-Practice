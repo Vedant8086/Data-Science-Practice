{
 "cells": [
  {
   "cell_type": "markdown",
   "id": "fddec8b1",
   "metadata": {},
   "source": [
    "### Testing Code In Python Environment"
   ]
  },
  {
   "cell_type": "code",
   "execution_count": 1,
   "id": "c3d5d530",
   "metadata": {},
   "outputs": [
    {
     "name": "stdout",
     "output_type": "stream",
     "text": [
      "Hellows, There are many ?? \n",
      "2\n",
      "This is text :  String ins It\n",
      "<class 'str'>\n",
      "<class 'int'>\n"
     ]
    }
   ],
   "source": [
    "print(\"Hellows, There are many ?? \")\n",
    "print(1+1)\n",
    "name = \"String ins It\"\n",
    "print(\"This is text : \",name)\n",
    "print(type(name))\n",
    "age = 313\n",
    "print(type(age))"
   ]
  },
  {
   "cell_type": "code",
   "execution_count": 1,
   "id": "963c3a05",
   "metadata": {},
   "outputs": [
    {
     "name": "stdout",
     "output_type": "stream",
     "text": [
      "<class 'int'> and number is 89 is its type\n"
     ]
    }
   ],
   "source": [
    "age = int(input(\"Enter the Age : ? \"))\n",
    "print(f\"{type(age)} and number is {age} is its type\")"
   ]
  }
 ],
 "metadata": {
  "kernelspec": {
   "display_name": "Python 3",
   "language": "python",
   "name": "python3"
  },
  "language_info": {
   "codemirror_mode": {
    "name": "ipython",
    "version": 3
   },
   "file_extension": ".py",
   "mimetype": "text/x-python",
   "name": "python",
   "nbconvert_exporter": "python",
   "pygments_lexer": "ipython3",
   "version": "3.13.0"
  }
 },
 "nbformat": 4,
 "nbformat_minor": 5
}
