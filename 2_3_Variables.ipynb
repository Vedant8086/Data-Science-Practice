{
 "cells": [
  {
   "cell_type": "markdown",
   "id": "fddec8b1",
   "metadata": {},
   "source": [
    "### Testing Code In Python Environment"
   ]
  },
  {
   "cell_type": "code",
   "execution_count": null,
   "id": "c3d5d530",
   "metadata": {},
   "outputs": [],
   "source": [
    "print(\"Hellows, There are many ?? \")\n",
    "print(1+1)\n",
    "name = \"String ins It\"\n",
    "print(\"This is text : \",name)\n",
    "print(type(name))\n",
    "age = 313\n",
    "print(type(age))"
   ]
  },
  {
   "cell_type": "code",
   "execution_count": null,
   "id": "963c3a05",
   "metadata": {},
   "outputs": [
    {
     "name": "stdout",
     "output_type": "stream",
     "text": [
      "<class 'int'> and number is 89 is its type\n"
     ]
    }
   ],
   "source": [
    "age = int(input(\"Enter the Age : ? \"))\n",
    "print(f\"{type(age)} and number is {age} is its type\")"
   ]
  }
 ],
 "metadata": {
  "kernelspec": {
   "display_name": ".venv",
   "language": "python",
   "name": "python3"
  },
  "language_info": {
   "codemirror_mode": {
    "name": "ipython",
    "version": 3
   },
   "file_extension": ".py",
   "mimetype": "text/x-python",
   "name": "python",
   "nbconvert_exporter": "python",
   "pygments_lexer": "ipython3",
   "version": "3.11.1"
  }
 },
 "nbformat": 4,
 "nbformat_minor": 5
}
