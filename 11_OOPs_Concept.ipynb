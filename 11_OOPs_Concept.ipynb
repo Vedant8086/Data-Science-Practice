{
 "cells": [
  {
   "cell_type": "markdown",
   "id": "8a06d511",
   "metadata": {},
   "source": [
    "#### Object and OOPs Concept"
   ]
  },
  {
   "cell_type": "code",
   "execution_count": 14,
   "id": "572d901c",
   "metadata": {},
   "outputs": [
    {
     "name": "stdout",
     "output_type": "stream",
     "text": [
      "<__main__.Car object at 0x000001124663ABC0>\n",
      "<class '__main__.Car'>\n",
      "class Run Success\n"
     ]
    }
   ],
   "source": [
    "\n",
    "class Car : \n",
    "    pass\n",
    "\n",
    "audi = Car()\n",
    "bmw = Car()\n",
    "\n",
    "print(audi)\n",
    "print(type(audi))\n",
    "print(\"class Run Success\")"
   ]
  },
  {
   "cell_type": "code",
   "execution_count": 15,
   "id": "08736ca9",
   "metadata": {},
   "outputs": [
    {
     "name": "stdout",
     "output_type": "stream",
     "text": [
      "Type is <class 'type'> and at <class '__main__.Dog'>\n",
      "Name of Dog is Puppy and it's age is 12 and owner is Super Model\n",
      "Name of Dog is Lala and it's age is 10\n",
      "Puppy says boow boow\n",
      "Lala says boow boow\n"
     ]
    }
   ],
   "source": [
    "class Dog : \n",
    "    \n",
    "    def __init__(self,name,age):\n",
    "        self.name = name\n",
    "        self.age = age\n",
    "    \n",
    "    def barks(self) : \n",
    "        print(f\"{self.name} says boow boow\")\n",
    "\n",
    "dog1 = Dog(\"Puppy\",12)\n",
    "dog2 = Dog(\"Lala\",10)\n",
    "print(f\"Type is {type(Dog)} and at {Dog}\")\n",
    "dog1.owner = \"Super Model\"\n",
    "print(f\"Name of Dog is {dog1.name} and it's age is {dog1.age} and owner is {dog1.owner}\")\n",
    "print(f\"Name of Dog is {dog2.name} and it's age is {dog2.age}\")\n",
    "dog1.barks()\n",
    "dog2.barks()\n"
   ]
  },
  {
   "cell_type": "code",
   "execution_count": 16,
   "id": "3d1445e6",
   "metadata": {},
   "outputs": [
    {
     "name": "stdout",
     "output_type": "stream",
     "text": [
      "Car has 4 windows also has 5 doors with Petrol engine\n"
     ]
    }
   ],
   "source": [
    "class Car : \n",
    "    def __init__(self,windows,doors,enginetype):\n",
    "        self.windows = windows\n",
    "        self.doors = doors\n",
    "        self.enginetype = enginetype\n",
    "    \n",
    "    def info(self) : \n",
    "        print(f\"Car has {self.windows} windows also has {self.doors} doors with {self.enginetype} engine\")\n",
    "        \n",
    "\n",
    "car = Car(4,5,\"Petrol\")\n",
    "car.info()\n"
   ]
  },
  {
   "cell_type": "code",
   "execution_count": 17,
   "id": "ecb768e4",
   "metadata": {},
   "outputs": [
    {
     "name": "stdout",
     "output_type": "stream",
     "text": [
      "Tesla with 4 windows,5 doors has Electric\n",
      "Yes, It is Self Driven\n"
     ]
    }
   ],
   "source": [
    "class Tesla(Car) : \n",
    "    def __init__(self, windows, doors, enginetype,is_selfdrive):\n",
    "        super().__init__(windows, doors, enginetype)\n",
    "        self.is_selfdrive = is_selfdrive\n",
    "\n",
    "    def drive_mode(self) :\n",
    "        if self.is_selfdrive : \n",
    "            print(f\"Tesla with {self.windows} windows,{self.doors} doors has {self.enginetype}\")\n",
    "            print(\"Yes, It is Self Driven\")\n",
    "        else  : \n",
    "            print(\"No\")\n",
    "\n",
    "tes = Tesla(4,5,\"Electric\",True)\n",
    "tes.drive_mode()"
   ]
  },
  {
   "cell_type": "code",
   "execution_count": 18,
   "id": "22da9bc8",
   "metadata": {},
   "outputs": [
    {
     "name": "stdout",
     "output_type": "stream",
     "text": [
      "Dog Class\n",
      "Cat Class\n"
     ]
    }
   ],
   "source": [
    "#### Polymorphism\n",
    "class Animal :\n",
    "    def speaks(self) : \n",
    "        return \"Animal\"\n",
    "\n",
    "class Dog(Animal) : \n",
    "    def speaks(self) : \n",
    "        return \"Dog Class\"\n",
    "\n",
    "class Cat(Animal) : \n",
    "    def speaks(self) : \n",
    "        return \"Cat Class\"\n",
    "\n",
    "def animal_speaks(animal) : \n",
    "    print(animal.speaks())\n",
    "\n",
    "dog = Dog()\n",
    "cat = Cat()\n",
    "animal_speaks(dog)\n",
    "animal_speaks(cat)"
   ]
  },
  {
   "cell_type": "code",
   "execution_count": 19,
   "id": "d63eea1e-4c90-4291-87b0-5df50e4aea48",
   "metadata": {},
   "outputs": [
    {
     "name": "stdout",
     "output_type": "stream",
     "text": [
      "130\n",
      "28.274333882308138\n"
     ]
    }
   ],
   "source": [
    "import math as m\n",
    "class Shape : \n",
    "    def area(self) : \n",
    "        return \"this is main area class\"\n",
    "    \n",
    "\n",
    "class Rect(Shape) : \n",
    "    def __init__(self,width,height):\n",
    "        self.width = width\n",
    "        self.height = height\n",
    "\n",
    "    def area(self) : \n",
    "        return self.height * self.width\n",
    "    \n",
    "\n",
    "class Circle(Shape) : \n",
    "    def __init__(self,radius):\n",
    "        self.radius = radius\n",
    "\n",
    "    def area(self) : \n",
    "        return m.pi * self.radius * self.radius\n",
    "    \n",
    "\n",
    "sh = Rect(13,10)\n",
    "cl = Circle(3)\n",
    "print(sh.area())        \n",
    "print(cl.area())"
   ]
  },
  {
   "cell_type": "code",
   "execution_count": 20,
   "id": "5a17d732",
   "metadata": {},
   "outputs": [
    {
     "name": "stdout",
     "output_type": "stream",
     "text": [
      "Motorcycle Started\n"
     ]
    }
   ],
   "source": [
    "### Polymorphisms with abstract base class\n",
    "from abc import ABC,abstractmethod\n",
    "## this is how abstraction in code in python\n",
    "class Vehicle(ABC) : \n",
    "    @abstractmethod\n",
    "    def start_engine(self) : \n",
    "        pass\n",
    "\n",
    "class Car(Vehicle) : \n",
    "    def start_engine(self):\n",
    "        return \"Car Engine Started\"\n",
    "    \n",
    "class MotorCycle(Vehicle) : \n",
    "    def start_engine(self):\n",
    "        return \"Motorcycle Started\"\n",
    "    \n",
    "\n",
    "car = Car()\n",
    "motor = MotorCycle()\n",
    "\n",
    "print(motor.start_engine())"
   ]
  },
  {
   "cell_type": "code",
   "execution_count": 21,
   "id": "9b9d03d6",
   "metadata": {},
   "outputs": [
    {
     "name": "stdout",
     "output_type": "stream",
     "text": [
      "EnvironmentError\n",
      "Balance anount is 880\n",
      "debitted successful\n",
      "Balance anount is 790\n"
     ]
    }
   ],
   "source": [
    "### Encapsulation\n",
    "print(\"EnvironmentError\")\n",
    "class Account : \n",
    "    \"\"\"This is Account of SBI Bank\"\"\"\n",
    "    def __init__(self,owner,balance=0):\n",
    "        self.owner = owner\n",
    "        self.__balance = balance\n",
    "\n",
    "    def __str__(self):\n",
    "        return f\"Account owner is {self.owner} and Balance is {self.__balance}\"\n",
    "\n",
    "    def deposit(self,amount) : \n",
    "        self.__balance += amount\n",
    "    \n",
    "    def debit(self,amount) : \n",
    "        if self.__balance - amount < 0 : \n",
    "            print(\"Insufficient Balance\")\n",
    "        elif self.__balance - amount == 0 : \n",
    "            self.__balance -= amount\n",
    "            print(\"account is empty now\")\n",
    "        else : \n",
    "            self.__balance -= amount\n",
    "            print(\"debitted successful\")\n",
    "\n",
    "    def get_balance(self) : \n",
    "        return self.__balance\n",
    "\n",
    "\n",
    "\n",
    "acc = Account(\"Boobby\",80)\n",
    "acc.deposit(800) \n",
    "print(f\"Balance anount is {acc.get_balance()}\")\n",
    "acc.debit(90)       \n",
    "print(f\"Balance anount is {acc.get_balance()}\")\n"
   ]
  },
  {
   "cell_type": "code",
   "execution_count": 22,
   "id": "5ab1e38d",
   "metadata": {},
   "outputs": [
    {
     "name": "stdout",
     "output_type": "stream",
     "text": [
      "<class 'type'>\n",
      "{'__module__': '__main__', '__doc__': 'This is Account of SBI Bank', '__init__': <function Account.__init__ at 0x0000011246774280>, '__str__': <function Account.__str__ at 0x0000011246774310>, 'deposit': <function Account.deposit at 0x00000112467743A0>, 'debit': <function Account.debit at 0x0000011246774430>, 'get_balance': <function Account.get_balance at 0x00000112467744C0>, '__dict__': <attribute '__dict__' of 'Account' objects>, '__weakref__': <attribute '__weakref__' of 'Account' objects>}\n",
      "<method '__dir__' of 'object' objects>\n",
      "This is Account of SBI Bank\n",
      "Account owner is Ved and Balance is 80\n",
      "<method-wrapper '__repr__' of Account object at 0x000001124660D5D0>\n"
     ]
    }
   ],
   "source": [
    "# dir(Account)\n",
    "print(Account.__class__)\n",
    "print(Account.__dict__)\n",
    "print(Account.__dir__)\n",
    "print(Account.__doc__)\n",
    "account = Account(\"Ved\",80)\n",
    "print(account)\n",
    "print(account.__repr__)"
   ]
  },
  {
   "cell_type": "code",
   "execution_count": 23,
   "id": "3b78c902",
   "metadata": {},
   "outputs": [
    {
     "name": "stdout",
     "output_type": "stream",
     "text": [
      "Vector(12, 12)\n",
      "Vector(8, 6)\n",
      "Vector(20, 27)\n",
      "Vector(5.0, 3.0)\n",
      "False\n"
     ]
    }
   ],
   "source": [
    "## Operator Overloading IN Python Using Magic Keywords\n",
    "class vector : \n",
    "    def __init__(self,x,y):\n",
    "        self.x = x\n",
    "        self.y = y\n",
    "    \n",
    "    def __add__(self,other) :\n",
    "        return vector(self.x + other.x,self.y + other.y)\n",
    "    \n",
    "    def __sub__(self,other) :\n",
    "        return vector(self.x - other.x,self.y - other.y)\n",
    "    \n",
    "    def __mul__(self,other) :\n",
    "        return vector(self.x * other.x,self.y * other.y)\n",
    "    \n",
    "    def __truediv__(self,other) : \n",
    "        return vector(self.x / other.x,self.y / other.y)\n",
    "\n",
    "\n",
    "    def __eq__(self,other) :\n",
    "        return self.x == other.x and self.y == other.y\n",
    "\n",
    "    def __repr__(self):\n",
    "        return f\"Vector({self.x}, {self.y})\"\n",
    "    \n",
    "\n",
    "v1 = vector(10,9)\n",
    "v2 = vector(2,3)\n",
    "print(v1+v2)\n",
    "print(v1-v2)\n",
    "print(v1*v2)\n",
    "print(v1 / v2)\n",
    "print(v1 == v2)\n",
    "        \n",
    "        "
   ]
  }
 ],
 "metadata": {
  "kernelspec": {
   "display_name": "myenv",
   "language": "python",
   "name": "python3"
  },
  "language_info": {
   "codemirror_mode": {
    "name": "ipython",
    "version": 3
   },
   "file_extension": ".py",
   "mimetype": "text/x-python",
   "name": "python",
   "nbconvert_exporter": "python",
   "pygments_lexer": "ipython3",
   "version": "3.10.18"
  }
 },
 "nbformat": 4,
 "nbformat_minor": 5
}
