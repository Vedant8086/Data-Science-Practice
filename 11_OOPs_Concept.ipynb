{
 "cells": [
  {
   "cell_type": "markdown",
   "id": "8a06d511",
   "metadata": {},
   "source": [
    "#### Object and OOPs Concept"
   ]
  },
  {
   "cell_type": "code",
   "execution_count": 3,
   "id": "572d901c",
   "metadata": {},
   "outputs": [
    {
     "name": "stdout",
     "output_type": "stream",
     "text": [
      "<__main__.Car object at 0x000002C1125E7B60>\n",
      "<class '__main__.Car'>\n",
      "class Run Success\n"
     ]
    }
   ],
   "source": [
    "\n",
    "class Car : \n",
    "    pass\n",
    "\n",
    "audi = Car()\n",
    "bmw = Car()\n",
    "\n",
    "print(audi)\n",
    "print(type(audi))\n",
    "print(\"class Run Success\")"
   ]
  },
  {
   "cell_type": "code",
   "execution_count": 4,
   "id": "08736ca9",
   "metadata": {},
   "outputs": [
    {
     "name": "stdout",
     "output_type": "stream",
     "text": [
      "Type is <class 'type'> and at <class '__main__.Dog'>\n",
      "Name of Dog is Puppy and it's age is 12 and owner is Super Model\n",
      "Name of Dog is Lala and it's age is 10\n",
      "Puppy says boow boow\n",
      "Lala says boow boow\n"
     ]
    }
   ],
   "source": [
    "class Dog : \n",
    "    \n",
    "    def __init__(self,name,age):\n",
    "        self.name = name\n",
    "        self.age = age\n",
    "    \n",
    "    def barks(self) : \n",
    "        print(f\"{self.name} says boow boow\")\n",
    "\n",
    "dog1 = Dog(\"Puppy\",12)\n",
    "dog2 = Dog(\"Lala\",10)\n",
    "print(f\"Type is {type(Dog)} and at {Dog}\")\n",
    "dog1.owner = \"Super Model\"\n",
    "print(f\"Name of Dog is {dog1.name} and it's age is {dog1.age} and owner is {dog1.owner}\")\n",
    "print(f\"Name of Dog is {dog2.name} and it's age is {dog2.age}\")\n",
    "dog1.barks()\n",
    "dog2.barks()\n"
   ]
  },
  {
   "cell_type": "code",
   "execution_count": 5,
   "id": "3d1445e6",
   "metadata": {},
   "outputs": [
    {
     "name": "stdout",
     "output_type": "stream",
     "text": [
      "Car has 4 windows also has 5 doors with Petrol engine\n"
     ]
    }
   ],
   "source": [
    "class Car : \n",
    "    def __init__(self,windows,doors,enginetype):\n",
    "        self.windows = windows\n",
    "        self.doors = doors\n",
    "        self.enginetype = enginetype\n",
    "    \n",
    "    def info(self) : \n",
    "        print(f\"Car has {self.windows} windows also has {self.doors} doors with {self.enginetype} engine\")\n",
    "        \n",
    "\n",
    "car = Car(4,5,\"Petrol\")\n",
    "car.info()\n"
   ]
  },
  {
   "cell_type": "code",
   "execution_count": 6,
   "id": "ecb768e4",
   "metadata": {},
   "outputs": [
    {
     "name": "stdout",
     "output_type": "stream",
     "text": [
      "Tesla with 4 windows,5 doors has Electric\n",
      "Yes, It is Self Driven\n"
     ]
    }
   ],
   "source": [
    "class Tesla(Car) : \n",
    "    def __init__(self, windows, doors, enginetype,is_selfdrive):\n",
    "        super().__init__(windows, doors, enginetype)\n",
    "        self.is_selfdrive = is_selfdrive\n",
    "\n",
    "    def drive_mode(self) :\n",
    "        if self.is_selfdrive : \n",
    "            print(f\"Tesla with {self.windows} windows,{self.doors} doors has {self.enginetype}\")\n",
    "            print(\"Yes, It is Self Driven\")\n",
    "        else  : \n",
    "            print(\"No\")\n",
    "\n",
    "tes = Tesla(4,5,\"Electric\",True)\n",
    "tes.drive_mode()"
   ]
  },
  {
   "cell_type": "code",
   "execution_count": 8,
   "id": "22da9bc8",
   "metadata": {},
   "outputs": [
    {
     "name": "stdout",
     "output_type": "stream",
     "text": [
      "16\n"
     ]
    }
   ],
   "source": [
    "#### Polymorphism\n",
    "even = lambda x : x ** 2\n",
    "print(even(4))"
   ]
  },
  {
   "cell_type": "code",
   "execution_count": null,
   "id": "d63eea1e-4c90-4291-87b0-5df50e4aea48",
   "metadata": {},
   "outputs": [],
   "source": []
  }
 ],
 "metadata": {
  "kernelspec": {
   "display_name": "Python 3 (ipykernel)",
   "language": "python",
   "name": "python3"
  },
  "language_info": {
   "codemirror_mode": {
    "name": "ipython",
    "version": 3
   },
   "file_extension": ".py",
   "mimetype": "text/x-python",
   "name": "python",
   "nbconvert_exporter": "python",
   "pygments_lexer": "ipython3",
   "version": "3.13.5"
  }
 },
 "nbformat": 4,
 "nbformat_minor": 5
}
