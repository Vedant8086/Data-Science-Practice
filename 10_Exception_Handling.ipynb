{
 "cells": [
  {
   "cell_type": "markdown",
   "id": "e40d523b",
   "metadata": {},
   "source": [
    "### Handling Exception in Python"
   ]
  },
  {
   "cell_type": "code",
   "execution_count": 26,
   "id": "fbf34acb",
   "metadata": {},
   "outputs": [
    {
     "name": "stdout",
     "output_type": "stream",
     "text": [
      "OS Module Initialted at c:\\Users\\vedan\\Desktop\\ML Practice\\Krish_Course\n",
      "name 'b' is not defined\n",
      "6.666666666666667\n",
      "[Errno 2] No such file or directory: 'example1.txt'\n",
      "file is closed Successfully!!!!\n"
     ]
    }
   ],
   "source": [
    "import os \n",
    "print(f\"OS Module Initialted at {os.getcwd()}\")\n",
    "try :\n",
    "    a = b\n",
    "    result = 1 / 0\n",
    "except Exception as ex :\n",
    "    print(ex) \n",
    "\n",
    "\n",
    "try : \n",
    "    num = int(input(\"Enter a Number : \"))\n",
    "    result = 600 / num\n",
    "except Exception as ex : \n",
    "    print(ex)\n",
    "else : \n",
    "    print(result)\n",
    "\n",
    "try : \n",
    "    file = open('example1.txt','r')\n",
    "    content = file.read()\n",
    "    print(content)\n",
    "except Exception as ex : \n",
    "    print(ex)\n",
    "finally : \n",
    "    file.close()\n",
    "    print(\"file is closed Successfully!!!!\")"
   ]
  },
  {
   "cell_type": "code",
   "execution_count": null,
   "id": "7179f3b3",
   "metadata": {},
   "outputs": [],
   "source": []
  }
 ],
 "metadata": {
  "kernelspec": {
   "display_name": "Python 3",
   "language": "python",
   "name": "python3"
  },
  "language_info": {
   "codemirror_mode": {
    "name": "ipython",
    "version": 3
   },
   "file_extension": ".py",
   "mimetype": "text/x-python",
   "name": "python",
   "nbconvert_exporter": "python",
   "pygments_lexer": "ipython3",
   "version": "3.13.0"
  }
 },
 "nbformat": 4,
 "nbformat_minor": 5
}
