{
 "cells": [
  {
   "cell_type": "markdown",
   "id": "beaea7a1",
   "metadata": {},
   "source": [
    "### Python Advanced Functions and Modules"
   ]
  },
  {
   "cell_type": "code",
   "execution_count": 24,
   "id": "a32c3abf",
   "metadata": {},
   "outputs": [
    {
     "name": "stdout",
     "output_type": "stream",
     "text": [
      "[1, 2, 3, 4, 5, 6]\n"
     ]
    }
   ],
   "source": [
    "my_list = [1,2,3,4,5,6]\n",
    "print(my_list)\n",
    "iterator = iter(my_list)\n",
    "\n"
   ]
  },
  {
   "cell_type": "code",
   "execution_count": 25,
   "id": "18c1711e",
   "metadata": {},
   "outputs": [
    {
     "name": "stdout",
     "output_type": "stream",
     "text": [
      "1\n"
     ]
    }
   ],
   "source": [
    "try : \n",
    "    print(next(iterator))\n",
    "except StopIteration : \n",
    "    print(\"Iter reach at the end\")"
   ]
  },
  {
   "cell_type": "code",
   "execution_count": 26,
   "id": "47104403",
   "metadata": {},
   "outputs": [
    {
     "name": "stdout",
     "output_type": "stream",
     "text": [
      "1\n",
      "2\n",
      "3\n",
      "4\n",
      "5\n",
      "6\n"
     ]
    }
   ],
   "source": [
    "my_iter = iter(my_list)\n",
    "while True:\n",
    "    try:\n",
    "        item = next(my_iter)\n",
    "        print(item)\n",
    "    except StopIteration:\n",
    "        break\n"
   ]
  },
  {
   "cell_type": "code",
   "execution_count": 27,
   "id": "0e6a7706",
   "metadata": {},
   "outputs": [
    {
     "name": "stdout",
     "output_type": "stream",
     "text": [
      "1\n",
      "2\n",
      "3\n",
      "4\n",
      "5\n"
     ]
    }
   ],
   "source": [
    "def count_up_to(n):\n",
    "    count = 1\n",
    "    while count <= n:\n",
    "        yield count\n",
    "        count += 1\n",
    "\n",
    "for number in count_up_to(5):\n",
    "    print(number)\n"
   ]
  },
  {
   "cell_type": "code",
   "execution_count": 28,
   "id": "4b664e50",
   "metadata": {},
   "outputs": [],
   "source": [
    "### Copy Function, Closures, Decorators\n",
    "def main_function(func) : \n",
    "    def sub_main_function() : \n",
    "          print(\"Before Func\")\n",
    "          func()\n",
    "          print('After Func')\n",
    "    return sub_main_function()    "
   ]
  },
  {
   "cell_type": "code",
   "execution_count": null,
   "id": "cdd4cf0e",
   "metadata": {},
   "outputs": [
    {
     "name": "stdout",
     "output_type": "stream",
     "text": [
      "Before Func\n",
      "Enter function\n",
      "After Func\n"
     ]
    }
   ],
   "source": [
    "def enter_function() : \n",
    "    print(\"Enter function\")\n",
    "\n",
    "main_function(enter_function)"
   ]
  },
  {
   "cell_type": "code",
   "execution_count": 30,
   "id": "8312cd6d",
   "metadata": {},
   "outputs": [
    {
     "name": "stdout",
     "output_type": "stream",
     "text": [
      "Before Func\n",
      "Enter function\n",
      "After Func\n"
     ]
    }
   ],
   "source": [
    "@main_function\n",
    "def enter_function() : \n",
    "    print(\"Enter function\")\n"
   ]
  }
 ],
 "metadata": {
  "kernelspec": {
   "display_name": "myenv",
   "language": "python",
   "name": "python3"
  },
  "language_info": {
   "codemirror_mode": {
    "name": "ipython",
    "version": 3
   },
   "file_extension": ".py",
   "mimetype": "text/x-python",
   "name": "python",
   "nbconvert_exporter": "python",
   "pygments_lexer": "ipython3",
   "version": "3.10.18"
  }
 },
 "nbformat": 4,
 "nbformat_minor": 5
}
