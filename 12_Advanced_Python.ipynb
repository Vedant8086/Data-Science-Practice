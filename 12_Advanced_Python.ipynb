{
 "cells": [
  {
   "cell_type": "markdown",
   "id": "beaea7a1",
   "metadata": {},
   "source": [
    "### Python Advanced Functions and Modules"
   ]
  },
  {
   "cell_type": "code",
   "execution_count": null,
   "id": "a32c3abf",
   "metadata": {},
   "outputs": [],
   "source": [
    "print(\"Running Codes!!!\")"
   ]
  }
 ],
 "metadata": {
  "kernelspec": {
   "display_name": "Python 3",
   "language": "python",
   "name": "python3"
  },
  "language_info": {
   "name": "python",
   "version": "3.13.0"
  }
 },
 "nbformat": 4,
 "nbformat_minor": 5
}
