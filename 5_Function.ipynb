{
 "cells": [
  {
   "cell_type": "markdown",
   "id": "f2b94686",
   "metadata": {},
   "source": [
    "## Functions In Python And Their UseCases"
   ]
  },
  {
   "cell_type": "code",
   "execution_count": 1,
   "id": "c8ffbca8",
   "metadata": {},
   "outputs": [
    {
     "name": "stdout",
     "output_type": "stream",
     "text": [
      "hello world sanika\n",
      "1\n",
      "2\n",
      "3\n",
      "4\n",
      "Vedant\n",
      "Sanika\n",
      "Preesha\n",
      "The args in list : Preesha\n",
      "\n",
      "\n",
      "Dictionaries type arguments : \n",
      "name : vedant\n",
      "country : Indian\n",
      "age : 21\n"
     ]
    }
   ],
   "source": [
    "def new_priint_function(para=\"Vedant\") :  \n",
    "    \"\"\"This function is for displaying string with your name\"\"\"\n",
    "    # name = input(\"Enter your name : \")\n",
    "\n",
    "    return f\"hello world {para}\"\n",
    "def multi_args(*args) :\n",
    "    for num in args : \n",
    "        print(num)\n",
    "\n",
    "    print(f\"The args in list : {args[-1]}\")\n",
    "\n",
    "def kwargs_arg(**kwargs) : \n",
    "    for key,value in kwargs.items() :\n",
    "        print(f\"{key} : {value}\")\n",
    "print(new_priint_function(\"sanika\"))\n",
    "\n",
    "multi_args(1,2,3,4,\"Vedant\",\"Sanika\",'Preesha')\n",
    "print('\\n')\n",
    "print(\"Dictionaries type arguments : \")\n",
    "kwargs_arg(name=\"vedant\",country=\"Indian\",age=21)"
   ]
  },
  {
   "cell_type": "markdown",
   "id": "540922d1",
   "metadata": {},
   "source": [
    "### Palindrome Checking\n",
    " "
   ]
  },
  {
   "cell_type": "code",
   "execution_count": 2,
   "id": "bc86b0b6",
   "metadata": {},
   "outputs": [
    {
     "name": "stdout",
     "output_type": "stream",
     "text": [
      "False\n",
      "Factorial of the 5 is 120\n"
     ]
    }
   ],
   "source": [
    "def palindrome_checking(par) :\n",
    "    par = par.lower().replace(\" \",\"\")\n",
    "    return par == par[::-1]\n",
    "\n",
    "def factorial(n) :\n",
    "    if n == 0 :\n",
    "        return 1\n",
    "    else :\n",
    "        return n * factorial(n-1) \n",
    "    \n",
    "\n",
    "print(palindrome_checking(\"amak\"))\n",
    "\n",
    "print(f\"Factorial of the 5 is {factorial(5)}\")"
   ]
  },
  {
   "cell_type": "markdown",
   "id": "069885d4",
   "metadata": {},
   "source": [
    "#### Lambda Function \n",
    "    When we talk it like anonymous function with lambda keyword can have any number of arguments and one expression"
   ]
  },
  {
   "cell_type": "code",
   "execution_count": 3,
   "id": "2cfde112",
   "metadata": {},
   "outputs": [
    {
     "name": "stdout",
     "output_type": "stream",
     "text": [
      "6\n",
      "False\n",
      "[1, 4, 9, 16, 25, 36, 49]\n",
      "[1, 4, 9, 16, 25, 36, 49]\n"
     ]
    }
   ],
   "source": [
    "## Addition\n",
    "addition = lambda a,b,c : a + b + c\n",
    "print(addition(1,2,3))\n",
    "\n",
    "even = lambda num : num% 2 == 0\n",
    "print(even(3))\n",
    "def square(n) :\n",
    "    return n * n\n",
    "numbers = [1,2,3,4,5,6,7]\n",
    "square_array = lambda numbers : [number ** 2 for number in numbers]\n",
    "\n",
    "print(square_array(numbers))\n",
    "\n",
    "print(list(map(square,numbers)))\n"
   ]
  },
  {
   "cell_type": "code",
   "execution_count": 4,
   "id": "327c0f28",
   "metadata": {},
   "outputs": [
    {
     "data": {
      "text/plain": [
       "int"
      ]
     },
     "execution_count": 4,
     "metadata": {},
     "output_type": "execute_result"
    }
   ],
   "source": [
    "### Used to convert str list of number into int list of numbers\n",
    "\n",
    "lists = ['1','2','3','4','5']\n",
    "\n",
    "type(list(map(int,lists))[0])"
   ]
  },
  {
   "cell_type": "code",
   "execution_count": null,
   "id": "cc21e281",
   "metadata": {},
   "outputs": [],
   "source": []
  }
 ],
 "metadata": {
  "kernelspec": {
   "display_name": "Python 3",
   "language": "python",
   "name": "python3"
  },
  "language_info": {
   "codemirror_mode": {
    "name": "ipython",
    "version": 3
   },
   "file_extension": ".py",
   "mimetype": "text/x-python",
   "name": "python",
   "nbconvert_exporter": "python",
   "pygments_lexer": "ipython3",
   "version": "3.13.0"
  }
 },
 "nbformat": 4,
 "nbformat_minor": 5
}
