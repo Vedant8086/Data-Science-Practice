{
 "cells": [
  {
   "cell_type": "markdown",
   "id": "8a06d511",
   "metadata": {},
   "source": [
    "#### Object and OOPs Concept"
   ]
  },
  {
   "cell_type": "code",
   "execution_count": null,
   "id": "572d901c",
   "metadata": {},
   "outputs": [],
   "source": [
    "\n",
    "class Car : \n",
    "    pass\n",
    "\n",
    "audi = Car()\n",
    "bmw = Car()\n",
    "\n",
    "print(audi)\n",
    "print(type(audi))\n",
    "print(\"class Run Success\")"
   ]
  },
  {
   "cell_type": "code",
   "execution_count": null,
   "id": "08736ca9",
   "metadata": {},
   "outputs": [],
   "source": [
    "class Dog : \n",
    "    \n",
    "    def __init__(self,name,age):\n",
    "        self.name = name\n",
    "        self.age = age\n",
    "    \n",
    "    def barks(self) : \n",
    "        print(f\"{self.name} says boow boow\")\n",
    "\n",
    "dog1 = Dog(\"Puppy\",12)\n",
    "dog2 = Dog(\"Lala\",10)\n",
    "print(f\"Type is {type(Dog)} and at {Dog}\")\n",
    "dog1.owner = \"Super Model\"\n",
    "print(f\"Name of Dog is {dog1.name} and it's age is {dog1.age} and owner is {dog1.owner}\")\n",
    "print(f\"Name of Dog is {dog2.name} and it's age is {dog2.age}\")\n",
    "dog1.barks()\n",
    "dog2.barks()\n"
   ]
  },
  {
   "cell_type": "code",
   "execution_count": null,
   "id": "3d1445e6",
   "metadata": {},
   "outputs": [],
   "source": [
    "class Car : \n",
    "    def __init__(self,windows,doors,enginetype):\n",
    "        self.windows = windows\n",
    "        self.doors = doors\n",
    "        self.enginetype = enginetype\n",
    "    \n",
    "    def info(self) : \n",
    "        print(f\"Car has {self.windows} windows also has {self.doors} doors with {self.enginetype} engine\")\n",
    "        \n",
    "\n",
    "car = Car(4,5,\"Petrol\")\n",
    "car.info()\n"
   ]
  },
  {
   "cell_type": "code",
   "execution_count": null,
   "id": "ecb768e4",
   "metadata": {},
   "outputs": [],
   "source": [
    "class Tesla(Car) : \n",
    "    def __init__(self, windows, doors, enginetype,is_selfdrive):\n",
    "        super().__init__(windows, doors, enginetype)\n",
    "        self.is_selfdrive = is_selfdrive\n",
    "\n",
    "    def drive_mode(self) :\n",
    "        if self.is_selfdrive : \n",
    "            print(f\"Tesla with {self.windows} windows,{self.doors} doors has {self.enginetype}\")\n",
    "            print(\"Yes, It is Self Driven\")\n",
    "        else  : \n",
    "            print(\"No\")\n",
    "\n",
    "tes = Tesla(4,5,\"Electric\",True)\n",
    "tes.drive_mode()"
   ]
  },
  {
   "cell_type": "code",
   "execution_count": null,
   "id": "22da9bc8",
   "metadata": {},
   "outputs": [],
   "source": [
    "#### Polymorphism\n",
    "\n"
   ]
  }
 ],
 "metadata": {
  "kernelspec": {
   "display_name": "Python 3",
   "language": "python",
   "name": "python3"
  },
  "language_info": {
   "codemirror_mode": {
    "name": "ipython",
    "version": 3
   },
   "file_extension": ".py",
   "mimetype": "text/x-python",
   "name": "python",
   "nbconvert_exporter": "python",
   "pygments_lexer": "ipython3",
   "version": "3.13.0"
  }
 },
 "nbformat": 4,
 "nbformat_minor": 5
}
