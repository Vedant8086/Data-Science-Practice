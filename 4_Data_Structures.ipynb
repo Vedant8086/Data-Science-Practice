{
 "cells": [
  {
   "cell_type": "markdown",
   "id": "437dd5bc",
   "metadata": {},
   "source": [
    "### Data Structures Practice and their Methods"
   ]
  },
  {
   "cell_type": "code",
   "execution_count": 1,
   "id": "bbf34dd1",
   "metadata": {},
   "outputs": [
    {
     "name": "stdout",
     "output_type": "stream",
     "text": [
      "[21, 34, 56, 78]\n",
      "the type of names is <class 'list'>\n",
      "12\n",
      "['Rohit', 'Vedant', 1, 2, 3, 4, 5, [23, 45, 67, 12]]\n"
     ]
    }
   ],
   "source": [
    "lists = [21,34,56,78]\n",
    "lists.sort()\n",
    "print(lists)\n",
    "names = [\"Krish\",\"Rohit\",\"Vedant\",1,2,3,4,5,[23,45,67,12]]\n",
    "print(f\"the type of names is {type(names)}\")\n",
    "print(names[-1][-1])\n",
    "print(names[1::])"
   ]
  },
  {
   "cell_type": "code",
   "execution_count": 2,
   "id": "c48ebccd",
   "metadata": {},
   "outputs": [
    {
     "name": "stdout",
     "output_type": "stream",
     "text": [
      "[[23, 45, 67, 12], 5, 4, 3, 2, 1, 'Vedant', 'Rohit', 'Krish']\n"
     ]
    }
   ],
   "source": [
    "print(names[::-1])"
   ]
  },
  {
   "cell_type": "code",
   "execution_count": 3,
   "id": "7bd3af65",
   "metadata": {},
   "outputs": [],
   "source": [
    "m = [x ** 2 for x in range(11)]"
   ]
  },
  {
   "cell_type": "code",
   "execution_count": 4,
   "id": "57a3ef3e",
   "metadata": {},
   "outputs": [
    {
     "name": "stdout",
     "output_type": "stream",
     "text": [
      "[100, 81, 64, 49, 36, 25, 16, 9, 4, 1, 0]\n"
     ]
    }
   ],
   "source": [
    "print(m[::-1])"
   ]
  },
  {
   "cell_type": "code",
   "execution_count": 5,
   "id": "db13f156",
   "metadata": {},
   "outputs": [],
   "source": [
    "mm = [\"It is Even\" if i % 2 == 0 else \"It is Odd\" for i in range(3)]"
   ]
  },
  {
   "cell_type": "markdown",
   "id": "6b78a6e7",
   "metadata": {},
   "source": [
    "#### Tuples"
   ]
  },
  {
   "cell_type": "code",
   "execution_count": 6,
   "id": "f03e4e26",
   "metadata": {},
   "outputs": [
    {
     "name": "stdout",
     "output_type": "stream",
     "text": [
      "1 2 3\n",
      "1 [2, 3, 4, 5, 6] 7\n"
     ]
    }
   ],
   "source": [
    "### Unpacking the tuples\n",
    "t = (1,2,3)\n",
    "a,b,c=t\n",
    "print(a,b,c)\n",
    "t2 = (1,2,3,4,5,6,7) ## with * all the element go into it \n",
    "first,*middle,last = t2\n",
    "print(first,middle,last)"
   ]
  },
  {
   "cell_type": "markdown",
   "id": "761c363c",
   "metadata": {},
   "source": [
    "#### Sets"
   ]
  },
  {
   "cell_type": "code",
   "execution_count": 7,
   "id": "4e223744",
   "metadata": {},
   "outputs": [
    {
     "name": "stdout",
     "output_type": "stream",
     "text": [
      "1\n",
      "{2, 3, 4, 5, 6}\n",
      "{2, 3}\n",
      "{1, 2, 3, 4, 5, 6, 7, 8, 9, 10, 11}\n",
      "{1, 4, 5, 6, 7, 8, 9, 10, 11}\n",
      "False\n"
     ]
    }
   ],
   "source": [
    "my_Set1 = {1,2,3,4,5,5,6}\n",
    "my_Set2 = {1,2,3,7,8,9,10,11}\n",
    "print(my_Set1.pop())\n",
    "print(my_Set1)\n",
    "print(my_Set1.intersection(my_Set2))\n",
    "print(my_Set1.union(my_Set2))\n",
    "print(my_Set1.symmetric_difference(my_Set2))\n",
    "print(my_Set1.issubset(my_Set2))\n"
   ]
  },
  {
   "cell_type": "markdown",
   "id": "edd0d082",
   "metadata": {},
   "source": [
    "#### Dictionaries and Comprehensions"
   ]
  },
  {
   "cell_type": "code",
   "execution_count": 8,
   "id": "54f6973f",
   "metadata": {},
   "outputs": [
    {
     "name": "stdout",
     "output_type": "stream",
     "text": [
      "{'name': 'Vedant Kulkarni', 'age': 12} and type <class 'dict'>\n",
      "12\n",
      "dict_keys(['name', 'age']) and dict_values(['Vedant Kulkarni', 12])\n",
      "None\n",
      "{'name': 'Vedant Kulkarni', 'age': 12, 'Board name': 'SSc Board', 'address': 'Delhi,India'}\n",
      "{'name': 'Vedant Kulkarni', 'age': 12, 'Board name': 'SSc Board'}\n",
      "{'name': 'Vedant Kulkarni', 'age': 12, 'Board name': 'SSc Board'}\n"
     ]
    }
   ],
   "source": [
    "d = {\n",
    "    \"name\" : \"Vedant Kulkarni\",\n",
    "    \"age\" : 12\n",
    "}\n",
    "print(d,\"and type\",type(d))\n",
    "print(d.get('age'))\n",
    "print(d.keys(),\"and\",d.values())\n",
    "print(d.update({\"Board name\" : \"SSc Board\"}))\n",
    "d[\"address\"] = \"Delhi,India\"\n",
    "print(d)\n",
    "del d[\"address\"]\n",
    "print(d)\n",
    "d_copy = PendingDeprecationWarning(d)\n",
    "print(d_copy)"
   ]
  },
  {
   "cell_type": "code",
   "execution_count": 9,
   "id": "4df2db99",
   "metadata": {},
   "outputs": [
    {
     "name": "stdout",
     "output_type": "stream",
     "text": [
      "{0: 0, 1: 1, 2: 4, 3: 9, 4: 16, 5: 25, 6: 36, 7: 49, 8: 64, 9: 81, 10: 100}\n",
      "{0: 0, 2: 8, 4: 64, 6: 216, 8: 512}\n"
     ]
    }
   ],
   "source": [
    "dicts = {x : x** 2 for x in range(11)}\n",
    "print(dicts)\n",
    "dicts2 = {x : x ** 3 for x in range(10) if x % 2 == 0}\n",
    "print(dicts2)"
   ]
  },
  {
   "cell_type": "code",
   "execution_count": 10,
   "id": "85e41faf",
   "metadata": {},
   "outputs": [
    {
     "name": "stdout",
     "output_type": "stream",
     "text": [
      "{1: 3, 2: 2, 3: 1, 4: 1, 5: 1, 6: 2, 7: 4, 8: 1}\n",
      "{0: 0, 1: 3, 2: 2, 3: 1, 4: 1, 5: 1, 6: 2, 7: 4, 8: 1, 9: 81, 10: 100}\n"
     ]
    }
   ],
   "source": [
    "## frequency count in list like map\n",
    "numbers = [1,1,1,2,2,3,4,5,6,6,7,7,7,7,8]\n",
    "frq ={number : numbers.count(number) for number in numbers}\n",
    "print(frq)\n",
    "\n",
    "##merging two dicts\n",
    "\n",
    "mergerd_dicts = {**dicts,**dicts2,**frq}\n",
    "print(mergerd_dicts)"
   ]
  },
  {
   "cell_type": "markdown",
   "id": "9bd5ec88",
   "metadata": {},
   "source": [
    "#### Real World Applications in Lists"
   ]
  },
  {
   "cell_type": "code",
   "execution_count": 11,
   "id": "f0e2e031",
   "metadata": {},
   "outputs": [],
   "source": [
    "## To-Do List\n",
    "## Student Grades organizing\n",
    "## Managing Inventory\n",
    "## USer Feedback in dict  format using list to store it"
   ]
  }
 ],
 "metadata": {
  "kernelspec": {
   "display_name": "Python 3",
   "language": "python",
   "name": "python3"
  },
  "language_info": {
   "codemirror_mode": {
    "name": "ipython",
    "version": 3
   },
   "file_extension": ".py",
   "mimetype": "text/x-python",
   "name": "python",
   "nbconvert_exporter": "python",
   "pygments_lexer": "ipython3",
   "version": "3.13.0"
  }
 },
 "nbformat": 4,
 "nbformat_minor": 5
}
