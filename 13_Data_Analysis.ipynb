{
 "cells": [
  {
   "cell_type": "markdown",
   "id": "834afb7f",
   "metadata": {},
   "source": [
    "### Data Analysis Intro"
   ]
  },
  {
   "cell_type": "code",
   "execution_count": 1,
   "id": "db0898d4",
   "metadata": {},
   "outputs": [],
   "source": [
    "# !pip install numpy\n",
    "# !pip install pandas"
   ]
  },
  {
   "cell_type": "code",
   "execution_count": 2,
   "id": "3427ea09",
   "metadata": {},
   "outputs": [
    {
     "name": "stdout",
     "output_type": "stream",
     "text": [
      "[[1 2 3 4]\n",
      " [5 6 7 8]]\n",
      "<class 'numpy.ndarray'>\n",
      "(2, 4)\n",
      "2\n",
      "8 ** int32 ** 4\n",
      "[[0. 0. 0.]\n",
      " [0. 0. 0.]]\n",
      "\n",
      "[[1. 1. 1.]\n",
      " [1. 1. 1.]]\n",
      "\n",
      "[[1. 0. 0.]\n",
      " [0. 1. 0.]\n",
      " [0. 0. 1.]]\n",
      "[[0.29318429 0.97720818 0.34735348]\n",
      " [0.37422199 0.66015902 0.9676366 ]]\n",
      "[38 66 76 72 29 23 84 47 97  1]\n"
     ]
    }
   ],
   "source": [
    "import numpy as np\n",
    "v = np.array([[1,2,3,4],[5,6,7,8]])\n",
    "print(v)\n",
    "print(type(v))\n",
    "print(v.shape)\n",
    "v.reshape(8,1)\n",
    "print(v.ndim)\n",
    "print(f\"{v.size} ** {v.dtype} ** {v.itemsize}\")\n",
    "print(np.zeros((2,3)))\n",
    "print()\n",
    "print(np.ones((2,3)))\n",
    "print()\n",
    "print(np.eye(3))\n",
    "print(np.random.rand(2,3)) # rand and randn\n",
    "print(np.random.randint(1,100,10))"
   ]
  },
  {
   "cell_type": "code",
   "execution_count": 3,
   "id": "e85ada4c",
   "metadata": {},
   "outputs": [
    {
     "name": "stdout",
     "output_type": "stream",
     "text": [
      "randint(low, high=None, size=None, dtype=int)\n",
      "\n",
      "Return random integers from `low` (inclusive) to `high` (exclusive).\n",
      "\n",
      "Return random integers from the \"discrete uniform\" distribution of\n",
      "the specified dtype in the \"half-open\" interval [`low`, `high`). If\n",
      "`high` is None (the default), then results are from [0, `low`).\n",
      "\n",
      ".. note::\n",
      "    New code should use the `~numpy.random.Generator.randint`\n",
      "    method of a `~numpy.random.Generator` instance instead;\n",
      "    please see the :ref:`random-quick-start`.\n",
      "\n",
      "Parameters\n",
      "----------\n",
      "low : int or array-like of ints\n",
      "    Lowest (signed) integers to be drawn from the distribution (unless\n",
      "    ``high=None``, in which case this parameter is one above the\n",
      "    *highest* such integer).\n",
      "high : int or array-like of ints, optional\n",
      "    If provided, one above the largest (signed) integer to be drawn\n",
      "    from the distribution (see above for behavior if ``high=None``).\n",
      "    If array-like, must contain integer values\n",
      "size : int or tuple of ints, optional\n",
      "    Output shape.  If the given shape is, e.g., ``(m, n, k)``, then\n",
      "    ``m * n * k`` samples are drawn.  Default is None, in which case a\n",
      "    single value is returned.\n",
      "dtype : dtype, optional\n",
      "    Desired dtype of the result. Byteorder must be native.\n",
      "    The default value is int.\n",
      "\n",
      "    .. versionadded:: 1.11.0\n",
      "\n",
      "Returns\n",
      "-------\n",
      "out : int or ndarray of ints\n",
      "    `size`-shaped array of random integers from the appropriate\n",
      "    distribution, or a single such random int if `size` not provided.\n",
      "\n",
      "See Also\n",
      "--------\n",
      "random_integers : similar to `randint`, only for the closed\n",
      "    interval [`low`, `high`], and 1 is the lowest value if `high` is\n",
      "    omitted.\n",
      "random.Generator.integers: which should be used for new code.\n",
      "\n",
      "Examples\n",
      "--------\n",
      ">>> np.random.randint(2, size=10)\n",
      "array([1, 0, 0, 0, 1, 1, 0, 0, 1, 0]) # random\n",
      ">>> np.random.randint(1, size=10)\n",
      "array([0, 0, 0, 0, 0, 0, 0, 0, 0, 0])\n",
      "\n",
      "Generate a 2 x 4 array of ints between 0 and 4, inclusive:\n",
      "\n",
      ">>> np.random.randint(5, size=(2, 4))\n",
      "array([[4, 0, 2, 1], # random\n",
      "       [3, 2, 2, 0]])\n",
      "\n",
      "Generate a 1 x 3 array with 3 different upper bounds\n",
      "\n",
      ">>> np.random.randint(1, [3, 5, 10])\n",
      "array([2, 2, 9]) # random\n",
      "\n",
      "Generate a 1 by 3 array with 3 different lower bounds\n",
      "\n",
      ">>> np.random.randint([1, 5, 7], 10)\n",
      "array([9, 8, 7]) # random\n",
      "\n",
      "Generate a 2 by 4 array using broadcasting with dtype of uint8\n",
      "\n",
      ">>> np.random.randint([1, 3, 5, 7], [[10], [20]], dtype=np.uint8)\n",
      "array([[ 8,  6,  9,  7], # random\n",
      "       [ 1, 16,  9, 12]], dtype=uint8)\n"
     ]
    }
   ],
   "source": [
    "np.info(np.random.randint)"
   ]
  },
  {
   "cell_type": "code",
   "execution_count": 4,
   "id": "4618e5e0",
   "metadata": {},
   "outputs": [
    {
     "name": "stdout",
     "output_type": "stream",
     "text": [
      "[3 7]\n",
      "[4 5 6 7 8]\n",
      "[1 2 3 4]\n",
      "(array([1], dtype=int64), array([3], dtype=int64))\n",
      "[2 4]\n",
      "6.25\n"
     ]
    }
   ],
   "source": [
    "print(v[:,2])\n",
    "print(v[v > 3])\n",
    "print(v[0,:])\n",
    "print(np.where(v>7))\n",
    "print(np.take(v,[1,3]))\n",
    "print(np.percentile(v,75))"
   ]
  },
  {
   "cell_type": "code",
   "execution_count": 5,
   "id": "2b78a236",
   "metadata": {},
   "outputs": [
    {
     "name": "stdout",
     "output_type": "stream",
     "text": [
      "Addition : [ 4  6  8 71 95]\n",
      "Substraction  : [ -2  -2  -2 -63 -85]\n",
      "Variance of a1 : 2.0 and Variance of a2 : 1385.3600000000001\n",
      "Co-Variance of a1 : 2.5 and Co-Variance of a2 : 1731.7000000000003\n",
      "[1.         1.41421356 1.73205081 2.         2.23606798]\n",
      "Standard Deviation :  2.29128784747792\n"
     ]
    }
   ],
   "source": [
    "a1 = np.array([1,2,3,4,5])\n",
    "a2 = np.array([3,4,5,67,90])\n",
    "print(f\"Addition : {np.add(a1,a2)}\") # must size same\n",
    "print(f\"Substraction  : {np.subtract(a1,a2)}\")\n",
    "print(f\"Variance of a1 : {np.var(a1)} and Variance of a2 : {np.var(a2)}\")\n",
    "print(f\"Co-Variance of a1 : {np.cov(a1)} and Co-Variance of a2 : {np.cov(a2)}\")\n",
    "print(np.sqrt(a1[::1]))\n",
    "print(\"Standard Deviation : \",np.std(v))"
   ]
  },
  {
   "cell_type": "code",
   "execution_count": 6,
   "id": "ea772626",
   "metadata": {},
   "outputs": [
    {
     "name": "stdout",
     "output_type": "stream",
     "text": [
      "0    1\n",
      "1    2\n",
      "2    3\n",
      "3    4\n",
      "4    5\n",
      "5    6\n",
      "dtype: int64\n",
      "a    1\n",
      "b    2\n",
      "c    3\n",
      "d    4\n",
      "dtype: int64\n"
     ]
    }
   ],
   "source": [
    "import pandas as pd\n",
    "data = [1,2,3,4,5,6]\n",
    "series = pd.Series(data)\n",
    "print(series)\n",
    "##Dict Passing\n",
    "data = {'a' : 1,'b' : 2,'c' : 3,'d' : 4}\n",
    "series = pd.Series(data)\n",
    "print(series)"
   ]
  },
  {
   "cell_type": "code",
   "execution_count": 7,
   "id": "8bade317",
   "metadata": {},
   "outputs": [
    {
     "name": "stdout",
     "output_type": "stream",
     "text": [
      "   Transaction ID        Date Product Category             Product Name  \\\n",
      "0           10001  2024-01-01      Electronics            iPhone 14 Pro   \n",
      "1           10002  2024-01-02  Home Appliances         Dyson V11 Vacuum   \n",
      "2           10003  2024-01-03         Clothing         Levi's 501 Jeans   \n",
      "3           10004  2024-01-04            Books        The Da Vinci Code   \n",
      "4           10005  2024-01-05  Beauty Products  Neutrogena Skincare Set   \n",
      "\n",
      "   Units Sold  Unit Price  Total Revenue         Region Payment Method  \n",
      "0           2      999.99        1999.98  North America    Credit Card  \n",
      "1           1      499.99         499.99         Europe         PayPal  \n",
      "2           3       69.99         209.97           Asia     Debit Card  \n",
      "3           4       15.99          63.96  North America    Credit Card  \n",
      "4           1       89.99          89.99         Europe         PayPal  \n",
      "     Name  Age country Job Peding\n",
      "0  Vedant   23   India  No    NaN\n",
      "1     Ved   30   India  No    NaN\n",
      "2     ant   29   India  No    NaN\n",
      "3      nt   32   India  No    Yes\n"
     ]
    }
   ],
   "source": [
    "data = pd.read_csv('sales_data.csv')\n",
    "print(data.head(5))\n",
    "data = [\n",
    "    {'Name' : 'Vedant','Age' : 23,'country' : 'India','Job' : 'No'},\n",
    "    {'Name' : 'Ved','Age' : 30,'country' : 'India','Job' : 'No'},\n",
    "    {'Name' : 'ant','Age' : 29,'country' : 'India','Job' : 'No'},\n",
    "    {'Name' : 'nt','Age' : 32,'country' : 'India','Job' : 'No','Peding' : 'Yes'},\n",
    "]\n",
    "df = pd.DataFrame(data)\n",
    "print(df)\n"
   ]
  },
  {
   "cell_type": "code",
   "execution_count": 8,
   "id": "2c9b7349",
   "metadata": {},
   "outputs": [
    {
     "name": "stdout",
     "output_type": "stream",
     "text": [
      "[2, 4, 6]\n",
      "[2 4 6]\n",
      "[[7 7]\n",
      " [7 7]]\n",
      "[0 2 4 6 8] \n",
      " [0.   0.25 0.5  0.75 1.  ]\n"
     ]
    }
   ],
   "source": [
    "a = [1, 2, 3]\n",
    "b = [1, 2, 3]\n",
    "result = [x+y for x, y in zip(a,b)]\n",
    "print(result)\n",
    "\n",
    "a = np.array([1,2,3])\n",
    "b = np.array([1,2,3])\n",
    "result = a + b\n",
    "print(result)\n",
    "\n",
    "print(np.full((2,2), 7))\n",
    "print(np.arange(0, 10, 2),'\\n',         # like range()\n",
    "np.linspace(0, 1, 5))"
   ]
  },
  {
   "cell_type": "code",
   "execution_count": 14,
   "id": "2e8115e9",
   "metadata": {},
   "outputs": [
    {
     "name": "stdout",
     "output_type": "stream",
     "text": [
      "[[1 2 3]\n",
      " [4 5 6]]\n",
      "[[1 2]\n",
      " [3 4]\n",
      " [5 6]]\n",
      "[1 2 3 4 5 6]\n",
      "[1 2 3 4 5 6]\n",
      "[1 2 3 4 5 6]\n",
      "Done Compilling!!\n"
     ]
    }
   ],
   "source": [
    "arr = np.arange(1, 7)     # [1 2 3 4 5 6]\n",
    "mat = arr.reshape((2, 3)) # 2 rows, 3 columns\n",
    "print(mat)\n",
    "print(arr.reshape((3, 2)))\n",
    "print(arr.flatten())   # convert 2D → 1D\n",
    "print(arr.ravel())     # memory-efficient flatten\n",
    "print(arr.T)           # transpose\n",
    "print(\"Done Compilling!!\")"
   ]
  },
  {
   "cell_type": "code",
   "execution_count": 15,
   "id": "839793b9",
   "metadata": {},
   "outputs": [
    {
     "name": "stdout",
     "output_type": "stream",
     "text": [
      "Compilling New Packages ?? \n"
     ]
    }
   ],
   "source": [
    "print(\"Compilling New Packages ?? \")"
   ]
  }
 ],
 "metadata": {
  "kernelspec": {
   "display_name": "myenv",
   "language": "python",
   "name": "python3"
  },
  "language_info": {
   "codemirror_mode": {
    "name": "ipython",
    "version": 3
   },
   "file_extension": ".py",
   "mimetype": "text/x-python",
   "name": "python",
   "nbconvert_exporter": "python",
   "pygments_lexer": "ipython3",
   "version": "3.10.18"
  }
 },
 "nbformat": 4,
 "nbformat_minor": 5
}
